{
 "cells": [
  {
   "cell_type": "code",
   "execution_count": null,
   "metadata": {},
   "outputs": [],
   "source": [
    "import pandas as pd\n",
    "\n",
    "# Specify the path to your TSV file\n",
    "tsv_file_path = '/home/ubuntu/Project/11-777-Project-aa/Data/imgs.tsv'\n",
    "\n",
    "# Define column names\n",
    "column_names = ['Column1', 'Column2', 'Column3']  # Replace with your actual column names\n",
    "\n",
    "# Read the TSV file into a pandas DataFrame\n",
    "df = pd.read_csv(tsv_file_path, sep='\\t', header=None, names=column_names)\n",
    "\n",
    "# Print the DataFrame\n",
    "print(df)\n"
   ]
  },
  {
   "cell_type": "code",
   "execution_count": null,
   "metadata": {},
   "outputs": [],
   "source": [
    "python vlp/run_webqa.py --new_segment_ids --do_train --train_batch_size 64 --split train --answer_provided_by 'img|txt' --task_to_learn 'qa' --num_workers 4 --max_pred 50 --mask_prob 0.5 --learning_rate 1e-4 --gradient_accumulation_steps 16 --save_loss_curve --num_train_epochs 16 --output_dir /home/ubuntu/Project/11-777-Project-aa/Model-Analysis/outputs --ckpts_dir /home/ubuntu/Project/11-777-Project-aa/Model-Analysis/ckpts"
   ]
  }
 ],
 "metadata": {
  "kernelspec": {
   "display_name": "lavis",
   "language": "python",
   "name": "python3"
  },
  "language_info": {
   "name": "python",
   "version": "3.8.13"
  }
 },
 "nbformat": 4,
 "nbformat_minor": 2
}
