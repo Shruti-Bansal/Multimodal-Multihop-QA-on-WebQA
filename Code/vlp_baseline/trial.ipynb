{
 "cells": [
  {
   "cell_type": "code",
   "execution_count": 2,
   "metadata": {},
   "outputs": [
    {
     "name": "stderr",
     "output_type": "stream",
     "text": [
      "/Users/aavi/Desktop/11-777-Project/.venv/lib/python3.9/site-packages/tqdm/auto.py:21: TqdmWarning: IProgress not found. Please update jupyter and ipywidgets. See https://ipywidgets.readthedocs.io/en/stable/user_install.html\n",
      "  from .autonotebook import tqdm as notebook_tqdm\n"
     ]
    },
    {
     "ename": "NameError",
     "evalue": "name 'args' is not defined",
     "output_type": "error",
     "traceback": [
      "\u001b[0;31m---------------------------------------------------------------------------\u001b[0m",
      "\u001b[0;31mNameError\u001b[0m                                 Traceback (most recent call last)",
      "\u001b[1;32m/Users/aavi/Desktop/11-777-Project/WebQA_Baseline/trial.ipynb Cell 1\u001b[0m line \u001b[0;36m3\n\u001b[1;32m      <a href='vscode-notebook-cell:/Users/aavi/Desktop/11-777-Project/WebQA_Baseline/trial.ipynb#W1sZmlsZQ%3D%3D?line=0'>1</a>\u001b[0m \u001b[39mimport\u001b[39;00m \u001b[39mwebqa_loader\u001b[39;00m \u001b[39mas\u001b[39;00m \u001b[39mwebqa_loader\u001b[39;00m\n\u001b[1;32m      <a href='vscode-notebook-cell:/Users/aavi/Desktop/11-777-Project/WebQA_Baseline/trial.ipynb#W1sZmlsZQ%3D%3D?line=1'>2</a>\u001b[0m device\u001b[39m=\u001b[39m\u001b[39m'\u001b[39m\u001b[39mcpu\u001b[39m\u001b[39m'\u001b[39m\n\u001b[0;32m----> <a href='vscode-notebook-cell:/Users/aavi/Desktop/11-777-Project/WebQA_Baseline/trial.ipynb#W1sZmlsZQ%3D%3D?line=2'>3</a>\u001b[0m train_dataset \u001b[39m=\u001b[39m webqa_loader\u001b[39m.\u001b[39mwebqaDataset_qa(dataset_json_path\u001b[39m=\u001b[39m\u001b[39m'\u001b[39m\u001b[39m/Users/aavi/Desktop/11-777-Project/Data/WebQA_train_val.json\u001b[39m\u001b[39m'\u001b[39m, split\u001b[39m=\u001b[39margs\u001b[39m.\u001b[39msplit, Qcate\u001b[39m=\u001b[39margs\u001b[39m.\u001b[39mQcate, \\\n\u001b[1;32m      <a href='vscode-notebook-cell:/Users/aavi/Desktop/11-777-Project/WebQA_Baseline/trial.ipynb#W1sZmlsZQ%3D%3D?line=3'>4</a>\u001b[0m                 batch_size\u001b[39m=\u001b[39m\u001b[39m1\u001b[39m, tokenizer\u001b[39m=\u001b[39mtokenizer, use_num_samples\u001b[39m=\u001b[39m\u001b[39m1\u001b[39m, \\\n\u001b[1;32m      <a href='vscode-notebook-cell:/Users/aavi/Desktop/11-777-Project/WebQA_Baseline/trial.ipynb#W1sZmlsZQ%3D%3D?line=4'>5</a>\u001b[0m                 processor\u001b[39m=\u001b[39mprocessor, device\u001b[39m=\u001b[39mdevice)\n",
      "\u001b[0;31mNameError\u001b[0m: name 'args' is not defined"
     ]
    }
   ],
   "source": [
    "import webqa_loader as webqa_loader\n",
    "device='cpu'\n",
    "processor = webqa_loader.Preprocess4webqaDecoder(list(tokenizer.vocab.keys()), \\\n",
    "        tokenizer.convert_tokens_to_ids, seed=args.seed, max_len=args.max_seq_length, len_vis_input=args.len_vis_input, \\\n",
    "        max_len_a=args.max_len_a, max_len_Q=args.max_len_Q, max_len_img_cxt=args.max_len_img_cxt, \\\n",
    "        max_tgt_len=args.max_tgt_len, new_segment_ids=args.new_segment_ids, \\\n",
    "        truncate_config={'trunc_seg': args.trunc_seg, 'always_truncate_tail': args.always_truncate_tail}, \\\n",
    "        use_img_meta=args.use_img_meta, use_img_content=args.use_img_content, use_txt_fact=args.use_txt_fact)\n",
    "train_dataset = webqa_loader.webqaDataset_qa(dataset_json_path='/Users/aavi/Desktop/11-777-Project/Data/WebQA_train_val.json', split=args.split, Qcate=args.Qcate, \\\n",
    "                batch_size=1, tokenizer=tokenizer, use_num_samples=1, \\\n",
    "                processor=processor, device=device)"
   ]
  },
  {
   "cell_type": "code",
   "execution_count": null,
   "metadata": {},
   "outputs": [],
   "source": []
  }
 ],
 "metadata": {
  "kernelspec": {
   "display_name": ".venv",
   "language": "python",
   "name": "python3"
  },
  "language_info": {
   "codemirror_mode": {
    "name": "ipython",
    "version": 3
   },
   "file_extension": ".py",
   "mimetype": "text/x-python",
   "name": "python",
   "nbconvert_exporter": "python",
   "pygments_lexer": "ipython3",
   "version": "3.9.6"
  },
  "orig_nbformat": 4
 },
 "nbformat": 4,
 "nbformat_minor": 2
}
