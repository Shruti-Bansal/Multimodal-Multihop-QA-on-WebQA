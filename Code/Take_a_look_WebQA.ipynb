{
  "cells": [
    {
      "cell_type": "markdown",
      "metadata": {
        "id": "FDL6-CAJr2XW"
      },
      "source": [
        "### Visualize random samples\n",
        "\n",
        "Don't forget to update all paths"
      ]
    },
    {
      "cell_type": "code",
      "execution_count": 2,
      "metadata": {
        "id": "0MqSFobbr2XZ"
      },
      "outputs": [],
      "source": [
        "import json, random, time, os, base64\n",
        "import numpy as np\n",
        "from pprint import pprint\n",
        "from collections import Counter, defaultdict\n",
        "import cv2\n",
        "import matplotlib.pyplot as plt\n",
        "np.set_printoptions(precision=4)\n",
        "from PIL import Image\n",
        "from PIL import ImageFile\n",
        "ImageFile.LOAD_TRUNCATED_IMAGES = True\n",
        "from io import BytesIO"
      ]
    },
    {
      "cell_type": "code",
      "execution_count": 3,
      "metadata": {
        "id": "0bSRW3rEr2Xa",
        "outputId": "cb8d388c-0924-44fe-a61c-9f94b4567190"
      },
      "outputs": [
        {
          "name": "stdout",
          "output_type": "stream",
          "text": [
            "Counter({'train': 36766, 'val': 4966})\n",
            "41732\n",
            "Counter({'text': 20267, 'YesNo': 7320, 'Others': 5412, 'choose': 4220, 'number': 2118, 'color': 1830, 'shape': 565})\n"
          ]
        }
      ],
      "source": [
        "#dataset = json.load(open(\"/home/yingshac/CYS/WebQnA/WebQnA_data_new/WebQA_train_val.json\", \"r\"))\n",
        "dataset = json.load(open(\"/home/ubuntu/Project/11-777-Project-aa/Data/WebQA_train_val_shruti_final.json\", \"r\"))\n",
        "print(Counter([dataset[k]['split'] for k in dataset]))\n",
        "print(len(set([dataset[k]['Guid'] for k in dataset])))\n",
        "print(Counter([dataset[k]['Qcate'] for k in dataset]))\n",
        "#create a json file similar to WebQnA_train_val.json for validation set and contains 10 questions with images\n"
      ]
    },
    {
      "cell_type": "code",
      "execution_count": 17,
      "metadata": {
        "id": "oUAJCDevr2Xb"
      },
      "outputs": [
        {
          "ename": "FileNotFoundError",
          "evalue": "[Errno 2] No such file or directory: '/Users/aavi/Desktop/11-777-Project/Data/imgs.lineidx'",
          "output_type": "error",
          "traceback": [
            "\u001b[0;31m---------------------------------------------------------------------------\u001b[0m",
            "\u001b[0;31mFileNotFoundError\u001b[0m                         Traceback (most recent call last)",
            "\u001b[1;32m/home/ubuntu/Project/Project_final/11-777-Project/Code/Take_a_look_WebQA.ipynb Cell 4\u001b[0m line \u001b[0;36m<cell line: 1>\u001b[0;34m()\u001b[0m\n\u001b[0;32m----> <a href='vscode-notebook-cell://ssh-remote%2Bavi/home/ubuntu/Project/Project_final/11-777-Project/Code/Take_a_look_WebQA.ipynb#W3sdnNjb2RlLXJlbW90ZQ%3D%3D?line=0'>1</a>\u001b[0m \u001b[39mwith\u001b[39;00m \u001b[39mopen\u001b[39;49m(\u001b[39m\"\u001b[39;49m\u001b[39m/Users/aavi/Desktop/11-777-Project/Data/imgs.lineidx\u001b[39;49m\u001b[39m\"\u001b[39;49m, \u001b[39m\"\u001b[39;49m\u001b[39mr\u001b[39;49m\u001b[39m\"\u001b[39;49m) \u001b[39mas\u001b[39;00m fp_lineidx:\n\u001b[1;32m      <a href='vscode-notebook-cell://ssh-remote%2Bavi/home/ubuntu/Project/Project_final/11-777-Project/Code/Take_a_look_WebQA.ipynb#W3sdnNjb2RlLXJlbW90ZQ%3D%3D?line=1'>2</a>\u001b[0m     lineidx \u001b[39m=\u001b[39m [\u001b[39mint\u001b[39m(i\u001b[39m.\u001b[39mstrip()) \u001b[39mfor\u001b[39;00m i \u001b[39min\u001b[39;00m fp_lineidx\u001b[39m.\u001b[39mreadlines()]\n",
            "\u001b[0;31mFileNotFoundError\u001b[0m: [Errno 2] No such file or directory: '/Users/aavi/Desktop/11-777-Project/Data/imgs.lineidx'"
          ]
        }
      ],
      "source": [
        "with open(\"/Users/aavi/Desktop/11-777-Project/Data/imgs.lineidx\", \"r\") as fp_lineidx:\n",
        "    lineidx = [int(i.strip()) for i in fp_lineidx.readlines()]\n"
      ]
    },
    {
      "cell_type": "code",
      "execution_count": 10,
      "metadata": {
        "id": "tAafbSBWr2Xc"
      },
      "outputs": [],
      "source": [
        "#create a json file similar to WebQnA_train_val.json for all values in the list A\n",
        "dataset_new = {}\n",
        "for k in A:\n",
        "    dataset_new[k] = dataset[k]"
      ]
    },
    {
      "cell_type": "code",
      "execution_count": 11,
      "metadata": {
        "id": "YlAyephor2Xd"
      },
      "outputs": [],
      "source": [
        "# find all the image ids in the dataset_new\n",
        "image_ids = []\n",
        "for k in dataset_new:\n",
        "    for f in dataset_new[k]['img_posFacts']:\n",
        "        image_ids.append(f['image_id'])\n",
        "    for f in dataset_new[k]['img_negFacts']:\n",
        "        image_ids.append(f['image_id'])"
      ]
    },
    {
      "cell_type": "code",
      "execution_count": 12,
      "metadata": {
        "id": "x3GOpBIxr2Xd"
      },
      "outputs": [],
      "source": [
        "#save dataset_new to a json file\n",
        "with open(\"/Users/aavi/Desktop/11-777-Project/Data/WebQA_avi.json\", \"w\") as fp:\n",
        "    json.dump(dataset_new, fp, indent=4)"
      ]
    },
    {
      "cell_type": "code",
      "execution_count": 18,
      "metadata": {
        "id": "vU7iMqKgr2Xd",
        "outputId": "ad710dd8-b71e-4fd3-9b47-b203d820a54e"
      },
      "outputs": [
        {
          "data": {
            "text/plain": [
              "int"
            ]
          },
          "execution_count": 18,
          "metadata": {},
          "output_type": "execute_result"
        }
      ],
      "source": [
        "type(image_ids[0])"
      ]
    },
    {
      "cell_type": "code",
      "execution_count": 20,
      "metadata": {
        "id": "mXneVxiYr2Xd",
        "outputId": "900c262e-5bd7-4913-ef14-e8c284ee781e"
      },
      "outputs": [
        {
          "name": "stderr",
          "output_type": "stream",
          "text": [
            "389750it [01:42, 3820.65it/s]"
          ]
        },
        {
          "name": "stdout",
          "output_type": "stream",
          "text": [
            "Failed to download images for the following IDs: []\n"
          ]
        },
        {
          "name": "stderr",
          "output_type": "stream",
          "text": [
            "\n"
          ]
        }
      ],
      "source": [
        "import base64\n",
        "from PIL import Image\n",
        "from io import BytesIO\n",
        "from tqdm import tqdm\n",
        "\n",
        "failed_ids = []\n",
        "# Create a list of image IDs you want to download\n",
        "image_ids_to_download = image_ids  # Replace with your desired image IDs\n",
        "\n",
        "with open(\"/Users/aavi/Desktop/11-777-Project/Data/imgs.tsv\", \"r\") as f:\n",
        "    for line in tqdm(f):\n",
        "        try:\n",
        "            img_id, img = line.strip().split('\\t')\n",
        "            if int(img_id) in image_ids_to_download:\n",
        "                img = Image.open(BytesIO(base64.b64decode(img)))\n",
        "                img = img.convert('RGB')\n",
        "                img.save('/Users/aavi/Desktop/11-777-Project/Data/Images_avi/' + img_id + '.jpg')\n",
        "                \n",
        "        except Exception as e:\n",
        "            failed_ids.append(img_id)\n",
        "            print(f\"Failed to process image ID {img_id}: {str(e)}\")\n",
        "\n",
        "print(\"Failed to download images for the following IDs:\", failed_ids)\n",
        "\n"
      ]
    },
    {
      "cell_type": "code",
      "execution_count": 27,
      "metadata": {},
      "outputs": [],
      "source": [
        "# read a json file and for each datapoint replecate it and can remove on of the image positive facts\n",
        "import json\n",
        "import random\n",
        "\n",
        "import os\n",
        "dataset = json.load(open(\"/home/ubuntu/Project/11-777-Project-aa/Data/WebQA_train_val_small.json\", \"r\"))\n",
        "dataset_new1 = {}\n",
        "for k in dataset:\n",
        "\n",
        "    dataset_new1[k] = dataset[k]\n",
        "    if len(dataset_new1[k]['img_posFacts']+dataset_new1[k]['img_negFacts']) == 0:\n",
        "            del dataset_new1[k]\n",
        "    elif len(dataset_new1[k]['img_posFacts']) == 1:\n",
        "         del dataset_new1[k]\n",
        "\n",
        "\n",
        "#save dataset_new1 to a json file\n",
        "with open(\"/home/ubuntu/Project/11-777-Project-aa/Data/WebQA_train_val_small_2.json\", \"w\") as fp:\n",
        "    json.dump(dataset_new1, fp, indent=4)\n"
      ]
    },
    {
      "cell_type": "code",
      "execution_count": 28,
      "metadata": {},
      "outputs": [
        {
          "name": "stdout",
          "output_type": "stream",
          "text": [
            "10\n"
          ]
        }
      ],
      "source": [
        "import json\n",
        "import random\n",
        "import gdown\n",
        "import os\n",
        "dataset = json.load(open(\"/Users/aavi/Desktop/11-777-Project/Data/WebQA_aaaa.json\", \"r\"))\n",
        "print(len(dataset))\n",
        "dataset_new1 = {}\n",
        "for k in dataset:\n",
        "    dataset_new1[k] = dataset[k]\n",
        "    dataset_new1[k]['img_posFacts'] = dataset_new1[k]['img_posFacts'][1:2]\n",
        "\n",
        "#save dataset_new1 to a json file\n",
        "with open(\"/Users/aavi/Desktop/11-777-Project/Data/WebQA_aaaa2.json\", \"w\") as fp:\n",
        "    json.dump(dataset_new1, fp, indent=4)"
      ]
    },
    {
      "cell_type": "code",
      "execution_count": null,
      "metadata": {},
      "outputs": [],
      "source": [
        "print(len(dataset))\n",
        "\n"
      ]
    }
  ],
  "metadata": {
    "colab": {
      "provenance": []
    },
    "kernelspec": {
      "display_name": "Python 3",
      "language": "python",
      "name": "python3"
    },
    "language_info": {
      "codemirror_mode": {
        "name": "ipython",
        "version": 3
      },
      "file_extension": ".py",
      "mimetype": "text/x-python",
      "name": "python",
      "nbconvert_exporter": "python",
      "pygments_lexer": "ipython3",
      "version": "3.8.13"
    }
  },
  "nbformat": 4,
  "nbformat_minor": 0
}
